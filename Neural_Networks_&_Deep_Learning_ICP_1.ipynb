{
  "nbformat": 4,
  "nbformat_minor": 0,
  "metadata": {
    "colab": {
      "provenance": []
    },
    "kernelspec": {
      "name": "python3",
      "display_name": "Python 3"
    },
    "language_info": {
      "name": "python"
    }
  },
  "cells": [
    {
      "cell_type": "markdown",
      "source": [
        "Question 1"
      ],
      "metadata": {
        "id": "U5f0L2fRfndR"
      }
    },
    {
      "cell_type": "code",
      "execution_count": 1,
      "metadata": {
        "colab": {
          "base_uri": "https://localhost:8080/"
        },
        "id": "UR38Rs8SeVlT",
        "outputId": "48469403-d5f9-4ee4-bfd5-fe1d7eeab1ec"
      },
      "outputs": [
        {
          "output_type": "stream",
          "name": "stdout",
          "text": [
            "python\n",
            "tp\n"
          ]
        }
      ],
      "source": [
        "import random\n",
        "s = list(input())\n",
        "size = len(s)\n",
        "no_of_char_del = random.randint(2,size-1)\n",
        "for i in range(no_of_char_del):\n",
        "  del s[int(random.randint(0,len(s)-1))]\n",
        "print(''.join(s[::-1]))"
      ]
    },
    {
      "cell_type": "code",
      "source": [
        "#Arithmetic operations\n",
        "a,b = map(int, input().split())\n",
        "print('Numbers:',a,b)\n",
        "add = a+b\n",
        "diff = a-b\n",
        "mod = a%b\n",
        "div = a//b\n",
        "print('Sum:', add)\n",
        "print('Difference:', diff)\n",
        "print('Modulus:', mod)\n",
        "print('Division:', div)"
      ],
      "metadata": {
        "colab": {
          "base_uri": "https://localhost:8080/"
        },
        "id": "i2FOX-RShr1g",
        "outputId": "f9edd8b4-da96-4d1f-ee6c-bd5add8afce0"
      },
      "execution_count": 2,
      "outputs": [
        {
          "output_type": "stream",
          "name": "stdout",
          "text": [
            "99 6\n",
            "Numbers: 99 6\n",
            "Sum: 105\n",
            "Difference: 93\n",
            "Modulus: 3\n",
            "Division: 16\n"
          ]
        }
      ]
    },
    {
      "cell_type": "markdown",
      "source": [
        "Question 2"
      ],
      "metadata": {
        "id": "_xnqJiS8jC1e"
      }
    },
    {
      "cell_type": "code",
      "source": [
        "s = input()\n",
        "s = s.replace('python','pythons')\n",
        "print(s)"
      ],
      "metadata": {
        "colab": {
          "base_uri": "https://localhost:8080/"
        },
        "id": "ZiIkboYpjFa3",
        "outputId": "f1092a1d-5bcd-4305-8422-4586cd11dec9"
      },
      "execution_count": 3,
      "outputs": [
        {
          "output_type": "stream",
          "name": "stdout",
          "text": [
            "I love playing with python\n",
            "I love playing with pythons\n"
          ]
        }
      ]
    },
    {
      "cell_type": "markdown",
      "source": [
        "Question 3"
      ],
      "metadata": {
        "id": "yYjhRqYXkQWu"
      }
    },
    {
      "cell_type": "code",
      "source": [
        "score = int(input())\n",
        "if score>=90 and score<=100:\n",
        "  print('Your grade is A')\n",
        "if score>=80 and score<90:\n",
        "  print('Your grade is B')\n",
        "if score>=70 and score<80:\n",
        "  print('Your grade is C')\n",
        "if score>=60 and score<70:\n",
        "  print('Your grade is D')\n",
        "if score>=0 and score<60:\n",
        "  print('Your grade is F')"
      ],
      "metadata": {
        "colab": {
          "base_uri": "https://localhost:8080/"
        },
        "id": "LxcALUeAk0KD",
        "outputId": "3dfed144-d01e-4797-9335-9fb137bebf93"
      },
      "execution_count": 4,
      "outputs": [
        {
          "output_type": "stream",
          "name": "stdout",
          "text": [
            "85\n",
            "Your grade is B\n"
          ]
        }
      ]
    }
  ]
}