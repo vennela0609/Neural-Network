{
  "nbformat": 4,
  "nbformat_minor": 0,
  "metadata": {
    "colab": {
      "provenance": []
    },
    "kernelspec": {
      "name": "python3",
      "display_name": "Python 3"
    },
    "language_info": {
      "name": "python"
    }
  },
  "cells": [
    {
      "cell_type": "markdown",
      "source": [
        "Question 1"
      ],
      "metadata": {
        "id": "U5f0L2fRfndR"
      }
    },
    {
      "cell_type": "code",
      "execution_count": 10,
      "metadata": {
        "colab": {
          "base_uri": "https://localhost:8080/"
        },
        "id": "UR38Rs8SeVlT",
        "outputId": "ebbb783d-f0e1-4e07-8b50-4c7cb0c11711"
      },
      "outputs": [
        {
          "output_type": "stream",
          "name": "stdout",
          "text": [
            "python\n",
            "nohy\n"
          ]
        }
      ],
      "source": [
        "import random\n",
        "s = list(input())\n",
        "del s[int(random.randint(0,len(s)))]\n",
        "del s[int(random.randint(0,len(s)))]\n",
        "print(''.join(s[::-1]))"
      ]
    },
    {
      "cell_type": "code",
      "source": [
        "#Arithmetic operations\n",
        "a,b = map(int, input().split())\n",
        "print('Numbers:',a,b)\n",
        "add = a+b\n",
        "diff = a-b\n",
        "mod = a%b\n",
        "div = a//b\n",
        "print('Sum:', add)\n",
        "print('Difference:', diff)\n",
        "print('Modulus:', mod)\n",
        "print('Division:', div)"
      ],
      "metadata": {
        "colab": {
          "base_uri": "https://localhost:8080/"
        },
        "id": "i2FOX-RShr1g",
        "outputId": "3bb49722-a33b-48f5-8459-c789e9b069b0"
      },
      "execution_count": 26,
      "outputs": [
        {
          "output_type": "stream",
          "name": "stdout",
          "text": [
            "23 6\n",
            "Numbers: 23 6\n",
            "Sum: 29\n",
            "Difference: 17\n",
            "Modulus: 5\n",
            "Division: 3\n"
          ]
        }
      ]
    },
    {
      "cell_type": "markdown",
      "source": [
        "Question 2"
      ],
      "metadata": {
        "id": "_xnqJiS8jC1e"
      }
    },
    {
      "cell_type": "code",
      "source": [
        "s = input()\n",
        "s = s.replace('python','pythons')\n",
        "print(s)"
      ],
      "metadata": {
        "colab": {
          "base_uri": "https://localhost:8080/"
        },
        "id": "ZiIkboYpjFa3",
        "outputId": "3821b935-50cf-4982-8b6b-ef0e706da802"
      },
      "execution_count": 19,
      "outputs": [
        {
          "output_type": "stream",
          "name": "stdout",
          "text": [
            "I love playing with python\n",
            "I love playing with pythons\n"
          ]
        }
      ]
    },
    {
      "cell_type": "markdown",
      "source": [
        "Question 3"
      ],
      "metadata": {
        "id": "yYjhRqYXkQWu"
      }
    },
    {
      "cell_type": "code",
      "source": [
        "score = int(input())\n",
        "if score>=90 and score<=100:\n",
        "  print('Your grade is A')\n",
        "elif score>=80 and score<90:\n",
        "  print('Your grade is B')\n",
        "elif score>=70 and score<80:\n",
        "  print('Your grade is C')\n",
        "elif score>=60 and score<70:\n",
        "  print('Your grade is D')\n",
        "else:\n",
        "  print('Your grade is F')"
      ],
      "metadata": {
        "colab": {
          "base_uri": "https://localhost:8080/"
        },
        "id": "LxcALUeAk0KD",
        "outputId": "05f6d828-8152-4e91-9f78-17a624695b18"
      },
      "execution_count": 25,
      "outputs": [
        {
          "output_type": "stream",
          "name": "stdout",
          "text": [
            "20\n",
            "Your grade is F\n"
          ]
        }
      ]
    }
  ]
}